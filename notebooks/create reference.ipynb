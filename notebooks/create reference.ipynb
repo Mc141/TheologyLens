{
 "cells": [
  {
   "cell_type": "code",
   "execution_count": 6,
   "id": "3853c940",
   "metadata": {},
   "outputs": [],
   "source": [
    "import pandas as pd"
   ]
  },
  {
   "cell_type": "code",
   "execution_count": 7,
   "id": "09087799",
   "metadata": {},
   "outputs": [],
   "source": [
    "df = pd.read_csv(\"web.csv\")"
   ]
  },
  {
   "cell_type": "code",
   "execution_count": 8,
   "id": "ae7a1a43",
   "metadata": {},
   "outputs": [
    {
     "data": {
      "application/vnd.microsoft.datawrangler.viewer.v0+json": {
       "columns": [
        {
         "name": "index",
         "rawType": "int64",
         "type": "integer"
        },
        {
         "name": "Verse ID",
         "rawType": "int64",
         "type": "integer"
        },
        {
         "name": "Book Name",
         "rawType": "object",
         "type": "string"
        },
        {
         "name": "Book Number",
         "rawType": "int64",
         "type": "integer"
        },
        {
         "name": "Chapter",
         "rawType": "int64",
         "type": "integer"
        },
        {
         "name": "Verse",
         "rawType": "int64",
         "type": "integer"
        },
        {
         "name": "Text",
         "rawType": "object",
         "type": "string"
        }
       ],
       "conversionMethod": "pd.DataFrame",
       "ref": "c02f80cd-aad4-41d8-a6a3-0a3c7b55cf54",
       "rows": [
        [
         "0",
         "1",
         "Genesis",
         "1",
         "1",
         "1",
         "In the beginning God created the heavens and the earth."
        ],
        [
         "1",
         "2",
         "Genesis",
         "1",
         "1",
         "2",
         "Now the earth was formless and empty. Darkness was on the surface of the deep. God's Spirit was hovering over the surface of the waters."
        ],
        [
         "2",
         "3",
         "Genesis",
         "1",
         "1",
         "3",
         "God said, \"Let there be light,\" and there was light."
        ],
        [
         "3",
         "4",
         "Genesis",
         "1",
         "1",
         "4",
         "God saw the light, and saw that it was good. God divided the light from the darkness."
        ],
        [
         "4",
         "5",
         "Genesis",
         "1",
         "1",
         "5",
         "God called the light \"day,\" and the darkness he called \"night.\" There was evening and there was morning, one day."
        ]
       ],
       "shape": {
        "columns": 6,
        "rows": 5
       }
      },
      "text/html": [
       "<div>\n",
       "<style scoped>\n",
       "    .dataframe tbody tr th:only-of-type {\n",
       "        vertical-align: middle;\n",
       "    }\n",
       "\n",
       "    .dataframe tbody tr th {\n",
       "        vertical-align: top;\n",
       "    }\n",
       "\n",
       "    .dataframe thead th {\n",
       "        text-align: right;\n",
       "    }\n",
       "</style>\n",
       "<table border=\"1\" class=\"dataframe\">\n",
       "  <thead>\n",
       "    <tr style=\"text-align: right;\">\n",
       "      <th></th>\n",
       "      <th>Verse ID</th>\n",
       "      <th>Book Name</th>\n",
       "      <th>Book Number</th>\n",
       "      <th>Chapter</th>\n",
       "      <th>Verse</th>\n",
       "      <th>Text</th>\n",
       "    </tr>\n",
       "  </thead>\n",
       "  <tbody>\n",
       "    <tr>\n",
       "      <th>0</th>\n",
       "      <td>1</td>\n",
       "      <td>Genesis</td>\n",
       "      <td>1</td>\n",
       "      <td>1</td>\n",
       "      <td>1</td>\n",
       "      <td>In the beginning God created the heavens and t...</td>\n",
       "    </tr>\n",
       "    <tr>\n",
       "      <th>1</th>\n",
       "      <td>2</td>\n",
       "      <td>Genesis</td>\n",
       "      <td>1</td>\n",
       "      <td>1</td>\n",
       "      <td>2</td>\n",
       "      <td>Now the earth was formless and empty. Darkness...</td>\n",
       "    </tr>\n",
       "    <tr>\n",
       "      <th>2</th>\n",
       "      <td>3</td>\n",
       "      <td>Genesis</td>\n",
       "      <td>1</td>\n",
       "      <td>1</td>\n",
       "      <td>3</td>\n",
       "      <td>God said, \"Let there be light,\" and there was ...</td>\n",
       "    </tr>\n",
       "    <tr>\n",
       "      <th>3</th>\n",
       "      <td>4</td>\n",
       "      <td>Genesis</td>\n",
       "      <td>1</td>\n",
       "      <td>1</td>\n",
       "      <td>4</td>\n",
       "      <td>God saw the light, and saw that it was good. G...</td>\n",
       "    </tr>\n",
       "    <tr>\n",
       "      <th>4</th>\n",
       "      <td>5</td>\n",
       "      <td>Genesis</td>\n",
       "      <td>1</td>\n",
       "      <td>1</td>\n",
       "      <td>5</td>\n",
       "      <td>God called the light \"day,\" and the darkness h...</td>\n",
       "    </tr>\n",
       "  </tbody>\n",
       "</table>\n",
       "</div>"
      ],
      "text/plain": [
       "   Verse ID Book Name  Book Number  Chapter  Verse  \\\n",
       "0         1   Genesis            1        1      1   \n",
       "1         2   Genesis            1        1      2   \n",
       "2         3   Genesis            1        1      3   \n",
       "3         4   Genesis            1        1      4   \n",
       "4         5   Genesis            1        1      5   \n",
       "\n",
       "                                                Text  \n",
       "0  In the beginning God created the heavens and t...  \n",
       "1  Now the earth was formless and empty. Darkness...  \n",
       "2  God said, \"Let there be light,\" and there was ...  \n",
       "3  God saw the light, and saw that it was good. G...  \n",
       "4  God called the light \"day,\" and the darkness h...  "
      ]
     },
     "execution_count": 8,
     "metadata": {},
     "output_type": "execute_result"
    }
   ],
   "source": [
    "df.head()"
   ]
  },
  {
   "cell_type": "code",
   "execution_count": 10,
   "id": "9375a6bc",
   "metadata": {},
   "outputs": [],
   "source": [
    "df[\"Reference\"] = df[\"Book Name\"] + \" \" + df[\"Chapter\"].astype(str) + \":\" + df[\"Verse\"].astype(str)"
   ]
  },
  {
   "cell_type": "code",
   "execution_count": 12,
   "id": "252642b9",
   "metadata": {},
   "outputs": [],
   "source": [
    "df.to_csv('web_reference.csv', index=False) "
   ]
  }
 ],
 "metadata": {
  "kernelspec": {
   "display_name": "base",
   "language": "python",
   "name": "python3"
  },
  "language_info": {
   "codemirror_mode": {
    "name": "ipython",
    "version": 3
   },
   "file_extension": ".py",
   "mimetype": "text/x-python",
   "name": "python",
   "nbconvert_exporter": "python",
   "pygments_lexer": "ipython3",
   "version": "3.12.7"
  }
 },
 "nbformat": 4,
 "nbformat_minor": 5
}
